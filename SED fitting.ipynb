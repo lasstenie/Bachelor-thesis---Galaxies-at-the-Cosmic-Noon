{
 "cells": [
  {
   "cell_type": "code",
   "execution_count": null,
   "id": "d469cc13-7823-4bef-bbb8-0f1a22542d22",
   "metadata": {},
   "outputs": [],
   "source": [
    "import bagpipes as pipes\n",
    "import numpy as np\n",
    "import pymultinest"
   ]
  },
  {
   "cell_type": "code",
   "execution_count": null,
   "id": "a7846342-a976-4216-89f8-9ac19232c0a9",
   "metadata": {},
   "outputs": [],
   "source": [
    "filter_list = [\"filters/nircam_throughputs/mean_throughputs/F090.dat\", \"filters/nircam_throughputs/mean_throughputs/F115.dat\",\"filters/nircam_throughputs/mean_throughputs/F150.dat\",\"filters/nircam_throughputs/mean_throughputs/F200.dat\", \"filters/nircam_throughputs/mean_throughputs/F277.dat\",\"filters/nircam_throughputs/mean_throughputs/F356.dat\", \"filters/nircam_throughputs/mean_throughputs/F410.dat\", \"filters/nircam_throughputs/mean_throughputs/F444.dat\",\"filters/HST/wfc3-F125W.res\",\"filters/HST/wfc3-F140W.res\",\"filters/HST/wfc3-F160W.res\",\"filters/HST/ACS_F435W.res\", \"filters/HST/ACS_F606W.res\", \"filters/HST/ACS_F814W.res\"]"
   ]
  },
  {
   "cell_type": "code",
   "execution_count": null,
   "id": "3431adce-2715-4042-8504-3a83aed45901",
   "metadata": {},
   "outputs": [],
   "source": [
    "def load_data(ID):\n",
    "    # load up the relevant columns from the catalogue.\n",
    "    cat = np.loadtxt(\"jwst_hst_photometry.txt\")\n",
    "    cat_err = np.loadtxt(\"jwst_hst_photometry_err.txt\")\n",
    "    # Find the correct row for the object we want.\n",
    "    row = int(ID) \n",
    "    # Extract the object we want from the catalogue.\n",
    "    fluxes = cat[row]/1000.\n",
    "    fluxerrs = cat_err[row]/1000.\n",
    "#    print(fluxes) \n",
    "#    print(fluxerrs) \n",
    "    # Turn these into a 2D array.\n",
    "    photometry = np.c_[fluxes, fluxerrs]\n",
    "    # blow up the errors associated with any missing fluxes.\n",
    "    for i in range(len(photometry)):\n",
    "        if (photometry[i, 0] == 0.) or (photometry[i, 1] <= 0):\n",
    "            photometry[i,:] = [0., 9.9*10**20.]\n",
    "    print(photometry)\n",
    "    return photometry"
   ]
  },
  {
   "cell_type": "code",
   "execution_count": null,
   "id": "a610a5a1-02a3-45cc-8536-afefce7e131e",
   "metadata": {},
   "outputs": [],
   "source": [
    "exp = {}                                  # Tau-model star-formation history component\n",
    "exp[\"age\"] = (0.01, 15.)                   # Vary age between 100 Myr and 15 Gyr. In practice\n",
    "                                             # the code automatically limits this to the age of\n",
    "                                             # the Universe at the observed redshift."
   ]
  },
  {
   "cell_type": "code",
   "execution_count": null,
   "id": "0f31d823-8380-4a7f-aaee-5b5a11012f1c",
   "metadata": {},
   "outputs": [],
   "source": [
    "exp[\"tau\"] = (0.01, 5.)                   # Vary tau between 300 Myr and 10 Gyr\n",
    "exp[\"massformed\"] = (0.1, 12.)             # vary log_10(M*/M_solar) between 1 and 15\n",
    "exp[\"metallicity\"] = (0., 2.5)            # vary Z between 0 and 2.5 Z_oldsolar"
   ]
  },
  {
   "cell_type": "code",
   "execution_count": null,
   "id": "d6822e4b-cc6a-4726-9f01-9ff7b62c52f3",
   "metadata": {},
   "outputs": [],
   "source": [
    "dust = {}                                 # Dust component\n",
    "dust[\"type\"] = \"Calzetti\"                 # Define the shape of the attenuation curve\n",
    "dust[\"Av\"] = (0.0, 2.)                     # Vary Av between 0 and 2 magnitudes"
   ]
  },
  {
   "cell_type": "code",
   "execution_count": null,
   "id": "ebca247e-ae08-4f60-81d6-64341196c358",
   "metadata": {},
   "outputs": [],
   "source": [
    "nebular = {}                      # Nebular emission component\n",
    "nebular[\"logU\"] = -2.5             # log_10(ionization parameter)"
   ]
  },
  {
   "cell_type": "code",
   "execution_count": null,
   "id": "8e7ef655-d497-4eac-85d9-7232675d4cb1",
   "metadata": {},
   "outputs": [],
   "source": [
    "fit_instructions = {}                     # The fit instructions dictionary\n",
    "fit_instructions[\"redshift\"] = (0., 3.)  # Vary observed redshift from 0 to 10\n",
    "fit_instructions[\"exponential\"] = exp\n",
    "fit_instructions[\"dust\"] = dust\n",
    "fit_instructions[\"nebular\"] = nebular"
   ]
  },
  {
   "cell_type": "code",
   "execution_count": null,
   "id": "683664bb-22f3-4e65-805e-97233565d7ca",
   "metadata": {},
   "outputs": [],
   "source": [
    "IDs = np.arange(0,5)"
   ]
  },
  {
   "cell_type": "code",
   "execution_count": null,
   "id": "6233607b-0a3e-42b6-9e36-489cef90f8a6",
   "metadata": {},
   "outputs": [],
   "source": [
    "fit_cat = pipes.fit_catalogue(IDs, fit_instructions, load_data, spectrum_exists=False, make_plots=True,\n",
    "                              cat_filt_list=filter_list, run=\"all_cat1\")\n",
    "fit_cat.fit(verbose=False)"
   ]
  }
 ],
 "metadata": {
  "kernelspec": {
   "display_name": "Python 3 (ipykernel)",
   "language": "python",
   "name": "python3"
  },
  "language_info": {
   "codemirror_mode": {
    "name": "ipython",
    "version": 3
   },
   "file_extension": ".py",
   "mimetype": "text/x-python",
   "name": "python",
   "nbconvert_exporter": "python",
   "pygments_lexer": "ipython3",
   "version": "3.10.9"
  }
 },
 "nbformat": 4,
 "nbformat_minor": 5
}
