{
 "cells": [
  {
   "cell_type": "code",
   "execution_count": null,
   "id": "e60a9ee3-d3b1-4e58-ac3c-f2bee51f7859",
   "metadata": {},
   "outputs": [],
   "source": [
    "import numpy as np\n",
    "from astropy.visualization import astropy_mpl_style\n",
    "plt.style.use(astropy_mpl_style)\n",
    "from astropy.utils.data import get_pkg_data_filename\n",
    "from astropy.io import fits"
   ]
  },
  {
   "cell_type": "code",
   "execution_count": null,
   "id": "2fb59942-83c2-4823-b6fa-7a1967411681",
   "metadata": {},
   "outputs": [],
   "source": [
    "primer = get_pkg_data_filename('D:\\primer_cosmos_nircam_v0.5_f444w_30mas_sci.fits')\n",
    "primer_data = fits.getdata(primer, ext=0)"
   ]
  },
  {
   "cell_type": "code",
   "execution_count": null,
   "id": "64435654-e069-4558-8959-2126ebf6a55d",
   "metadata": {},
   "outputs": [],
   "source": [
    "#Pixel array for PRIMER images\n",
    "DEC_values = np.linspace(2.14721639, 2.51471444, 44100)\n",
    "RA_values = np.linspace(150.23463042, 150.01785458, 26000)"
   ]
  },
  {
   "cell_type": "code",
   "execution_count": null,
   "id": "689e85f2-0e3e-4d4a-9e86-af2c69d3f648",
   "metadata": {},
   "outputs": [],
   "source": [
    "#Loading NB118 Excess catalogue\n",
    "catalogue = np.loadtxt('nb118 emitters.txt')\n",
    "\n",
    "#Creating empty lists to append to\n",
    "RA_within_primer = []\n",
    "DEC_within_primer = []\n",
    "classic_ID_within_primer = []\n",
    "zphot_lephare_within_primer = []\n",
    "zphot_eazy_within_primer = []\n",
    "\n",
    "#checking if NB118 excess objects are withing PRIMER covered area\n",
    "for i in range(len(catalogue)):\n",
    "    RA_val = find_nearest(RA_values, catalogue[i][0])\n",
    "    DEC_val = find_nearest(DEC_values, catalogue[i][1])\n",
    "    RA_pixel = np.where(RA_values == RA_val)\n",
    "    DEC_pixel = np.where(DEC_values == DEC_val)\n",
    "    zphot_eazy = catalogue[i][4]\n",
    "    zphot_lephare = catalogue[i][3]\n",
    "    classid_ID = catalogue[i][2]\n",
    "    \n",
    "    if primer_data[DEC_pixel[0][0]][RA_pixel[0][0]] > 0  and zphot_lephare > 0 and zphot_eazy > 0:\n",
    "        RA_within_primer.append(catalogue[i][0])\n",
    "        DEC_within_primer.append(catalogue[i][1])\n",
    "        classic_ID_within_primer.append(catalogue[i][2])\n",
    "        zphot_lephare_within_primer.append(catalogue[i][3])\n",
    "        zphot_eazy_within_primer.append(catalogue[i][4])\n",
    "\n",
    "#Saving the covered objects to an external file\n",
    "np.savetxt('emitters in primer', np.array([RA_within_primer, DEC_within_primer, classic_ID_within_primer, zphot_lephare_within_primer, zphot_eazy_within_primer]), delimiter='\\t', fmt=\"%s\")"
   ]
  }
 ],
 "metadata": {
  "kernelspec": {
   "display_name": "Python 3 (ipykernel)",
   "language": "python",
   "name": "python3"
  },
  "language_info": {
   "codemirror_mode": {
    "name": "ipython",
    "version": 3
   },
   "file_extension": ".py",
   "mimetype": "text/x-python",
   "name": "python",
   "nbconvert_exporter": "python",
   "pygments_lexer": "ipython3",
   "version": "3.10.9"
  }
 },
 "nbformat": 4,
 "nbformat_minor": 5
}
